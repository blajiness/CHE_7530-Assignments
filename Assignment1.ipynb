{
  "nbformat": 4,
  "nbformat_minor": 0,
  "metadata": {
    "colab": {
      "provenance": [],
      "collapsed_sections": [
        "btw9DhA-7vzF",
        "Wax9Hz0x_JTE",
        "1ruV_OI895f-",
        "000Fyvj1_Ph7",
        "0B8zHVP4_hJ3"
      ],
      "include_colab_link": true
    },
    "kernelspec": {
      "name": "python3",
      "display_name": "Python 3"
    },
    "language_info": {
      "name": "python"
    }
  },
  "cells": [
    {
      "cell_type": "markdown",
      "metadata": {
        "id": "view-in-github",
        "colab_type": "text"
      },
      "source": [
        "<a href=\"https://colab.research.google.com/github/blajiness/CHE_7530-Assignments/blob/main/Assignment1.ipynb\" target=\"_parent\"><img src=\"https://colab.research.google.com/assets/colab-badge.svg\" alt=\"Open In Colab\"/></a>"
      ]
    },
    {
      "cell_type": "markdown",
      "source": [
        "# Assignment 1"
      ],
      "metadata": {
        "id": "aLQ5YNKt5eTB"
      }
    },
    {
      "cell_type": "markdown",
      "source": [
        "Instructions: Please work through this notebook. Anything in <font color='red'> red </font> requires an answer in a code and/or text cell, as indicated. Please leave all of the text I have written; I have arranged the notebook so that I can easily navigate to your answers and skip my own explanations."
      ],
      "metadata": {
        "id": "iEggcmeAD6h9"
      }
    },
    {
      "cell_type": "markdown",
      "source": [
        "## Part 1 : Accessing a Database & Plotting Results"
      ],
      "metadata": {
        "id": "v-ENb4aV5kCQ"
      }
    },
    {
      "cell_type": "markdown",
      "source": [
        "### Python Practice : for loops\n",
        "https://www.w3schools.com/python/python_for_loops.asp  \n",
        "We will talk more about loops in detail, but for now, we will learn by doing. A for loop will do just that: for every \"thing\" in a list/string/etc., the code will do something.\n"
      ],
      "metadata": {
        "id": "btw9DhA-7vzF"
      }
    },
    {
      "cell_type": "markdown",
      "source": [
        "#### Explanations"
      ],
      "metadata": {
        "id": "Wax9Hz0x_JTE"
      }
    },
    {
      "cell_type": "code",
      "execution_count": null,
      "metadata": {
        "id": "Vg5Rxoa35Z8K"
      },
      "outputs": [],
      "source": [
        "for x in [1., 6., 7.]:\n",
        "  print(x*3)"
      ]
    },
    {
      "cell_type": "markdown",
      "source": [
        "This can be done for many different data types. For example, we can have a list full of strings instead and do the same thing."
      ],
      "metadata": {
        "id": "fP1UJzHH8N2M"
      }
    },
    {
      "cell_type": "code",
      "source": [
        "for l in ['OFET', 'OLED', 'OMIEC']:\n",
        "  print(l)\n",
        "print('Alternatively,')\n",
        "for w in 'OFET':\n",
        "  print(w)"
      ],
      "metadata": {
        "id": "zgh0dntF8UdY",
        "colab": {
          "base_uri": "https://localhost:8080/"
        },
        "outputId": "a97cec82-b9e8-4fdd-eee6-f82f68a35163"
      },
      "execution_count": null,
      "outputs": [
        {
          "output_type": "stream",
          "name": "stdout",
          "text": [
            "OFET\n",
            "OLED\n",
            "OMIEC\n",
            "Alternatively,\n",
            "O\n",
            "F\n",
            "E\n",
            "T\n"
          ]
        }
      ]
    },
    {
      "cell_type": "markdown",
      "source": [
        "Something useful that we can use (not quite related) are \"f-strings\". These provide a convenient way to insert strings, integers, or floats, etc. into existing strings. This can be helpful to add a little more context. Take our previous example,"
      ],
      "metadata": {
        "id": "mvrJDJdB8fh1"
      }
    },
    {
      "cell_type": "code",
      "source": [
        "for x in [1., 6., 7.]:\n",
        "  multiplier = 3\n",
        "  print(f'The value of x ({x}) multiplied by {multiplier} is {x*3}')"
      ],
      "metadata": {
        "id": "I5GTs3ms8y4I",
        "colab": {
          "base_uri": "https://localhost:8080/"
        },
        "outputId": "99057f3c-ed42-4c94-9c54-e7c737d7acaf"
      },
      "execution_count": null,
      "outputs": [
        {
          "output_type": "stream",
          "name": "stdout",
          "text": [
            "The value of x (1.0) multiplied by 3 is 3.0\n",
            "The value of x (6.0) multiplied by 3 is 18.0\n",
            "The value of x (7.0) multiplied by 3 is 21.0\n"
          ]
        }
      ]
    },
    {
      "cell_type": "markdown",
      "source": [
        "We can use that to make complete strings, as well. For example, (HINT), if we have a dictionary (again, more on these later) which uses strings to access values"
      ],
      "metadata": {
        "id": "iNguG9ey9Fhz"
      }
    },
    {
      "cell_type": "code",
      "source": [
        "mw_dict = {'benzene' :78.11 , 'toluene' : 92.141 , 'propane' : 44.097} # makes a bunch of key/value pairs, which we can reference\n",
        "desired = 'benzene'\n",
        "print(f'The molecular weight of {desired} is {mw_dict[desired]}')"
      ],
      "metadata": {
        "id": "q1B1Q_kO9O6H",
        "colab": {
          "base_uri": "https://localhost:8080/"
        },
        "outputId": "b5254f27-9904-47a2-8066-dc06ac92e8ec"
      },
      "execution_count": null,
      "outputs": [
        {
          "output_type": "stream",
          "name": "stdout",
          "text": [
            "The molecular weight of benzene is 78.11\n"
          ]
        }
      ]
    },
    {
      "cell_type": "code",
      "source": [
        "key_list = mw_dict.keys()\n",
        "print(key_list)"
      ],
      "metadata": {
        "id": "HyuRb5ur96Xp",
        "colab": {
          "base_uri": "https://localhost:8080/"
        },
        "outputId": "6039a59b-0fcb-42f7-c3ee-45e961ff09ee"
      },
      "execution_count": null,
      "outputs": [
        {
          "output_type": "stream",
          "name": "stdout",
          "text": [
            "dict_keys(['benzene', 'toluene', 'propane'])\n"
          ]
        }
      ]
    },
    {
      "cell_type": "code",
      "source": [
        "for k in key_list:\n",
        "  print(f'The molecular weight of {k} is {mw_dict[k]}')"
      ],
      "metadata": {
        "id": "MqZq3fEg98t2",
        "colab": {
          "base_uri": "https://localhost:8080/"
        },
        "outputId": "870969b2-4107-41aa-f5f9-70ab6bbc00a8"
      },
      "execution_count": null,
      "outputs": [
        {
          "output_type": "stream",
          "name": "stdout",
          "text": [
            "The molecular weight of benzene is 78.11\n",
            "The molecular weight of toluene is 92.141\n",
            "The molecular weight of propane is 44.097\n"
          ]
        }
      ]
    },
    {
      "cell_type": "markdown",
      "source": [
        "#### <font color = 'red'> Practice: write a for loop that:</font>  \n",
        "Converts the following values of energy in eV to J and prints them out. The conversion factor between the two energy units is $1 eV = 1.602 \\times 10^{-19} J$."
      ],
      "metadata": {
        "id": "1ruV_OI895f-"
      }
    },
    {
      "cell_type": "code",
      "source": [
        "energies = [100., 1230., 2000., 3600.]\n",
        "# fill the rest of this cell with your code to perform the above task\n",
        "for e in energies:\n",
        "  print(f'{e} eV = {e*1.602e-19} J')"
      ],
      "metadata": {
        "id": "XPpi8J8b-zB0",
        "colab": {
          "base_uri": "https://localhost:8080/"
        },
        "outputId": "78d9ab01-8b44-4c45-9e30-302a81bc277e"
      },
      "execution_count": null,
      "outputs": [
        {
          "output_type": "stream",
          "name": "stdout",
          "text": [
            "100.0 eV = 1.602e-17 J\n",
            "1230.0 eV = 1.97046e-16 J\n",
            "2000.0 eV = 3.204e-16 J\n",
            "3600.0 eV = 5.7672e-16 J\n"
          ]
        }
      ]
    },
    {
      "cell_type": "markdown",
      "source": [
        "### NIST WebBook"
      ],
      "metadata": {
        "id": "000Fyvj1_Ph7"
      }
    },
    {
      "cell_type": "markdown",
      "source": [
        "#### Similarly to what we did in class: <font color = 'red'> Compare the IR and UV-vis spectra for 3 different series of molecules by loading the data, plotting on a common axis (or axes) that facilitates comparison, and qualitatively explaining any trends you see with each series."
      ],
      "metadata": {
        "id": "8SKRlZP2_23S"
      }
    },
    {
      "cell_type": "markdown",
      "source": [
        "##### <font color = 'red'> Series 1: ethane, ethylene, ethyne (acetylene) </font>"
      ],
      "metadata": {
        "id": "2_SKhzKlAmkt"
      }
    },
    {
      "cell_type": "code",
      "source": [
        "# Use this code (and add as many extra code cells as you want in this section) to do the above task.'\n",
        "\n",
        "! pip install nistchempy\n",
        "import nistchempy as nist\n",
        "import numpy as np\n",
        "import matplotlib.pyplot as plt"
      ],
      "metadata": {
        "id": "9kZfL0w7AnA-",
        "colab": {
          "base_uri": "https://localhost:8080/"
        },
        "collapsed": true,
        "outputId": "f591e5a4-6935-4b06-d6e6-87fc84dc1d9d"
      },
      "execution_count": 1,
      "outputs": [
        {
          "output_type": "stream",
          "name": "stdout",
          "text": [
            "Collecting nistchempy\n",
            "  Downloading nistchempy-1.0.5-py3-none-any.whl.metadata (5.2 kB)\n",
            "Requirement already satisfied: requests in /usr/local/lib/python3.12/dist-packages (from nistchempy) (2.32.4)\n",
            "Requirement already satisfied: pandas in /usr/local/lib/python3.12/dist-packages (from nistchempy) (2.2.2)\n",
            "Collecting bs4 (from nistchempy)\n",
            "  Downloading bs4-0.0.2-py2.py3-none-any.whl.metadata (411 bytes)\n",
            "Requirement already satisfied: beautifulsoup4 in /usr/local/lib/python3.12/dist-packages (from bs4->nistchempy) (4.13.5)\n",
            "Requirement already satisfied: numpy>=1.26.0 in /usr/local/lib/python3.12/dist-packages (from pandas->nistchempy) (2.0.2)\n",
            "Requirement already satisfied: python-dateutil>=2.8.2 in /usr/local/lib/python3.12/dist-packages (from pandas->nistchempy) (2.9.0.post0)\n",
            "Requirement already satisfied: pytz>=2020.1 in /usr/local/lib/python3.12/dist-packages (from pandas->nistchempy) (2025.2)\n",
            "Requirement already satisfied: tzdata>=2022.7 in /usr/local/lib/python3.12/dist-packages (from pandas->nistchempy) (2025.2)\n",
            "Requirement already satisfied: charset_normalizer<4,>=2 in /usr/local/lib/python3.12/dist-packages (from requests->nistchempy) (3.4.3)\n",
            "Requirement already satisfied: idna<4,>=2.5 in /usr/local/lib/python3.12/dist-packages (from requests->nistchempy) (3.10)\n",
            "Requirement already satisfied: urllib3<3,>=1.21.1 in /usr/local/lib/python3.12/dist-packages (from requests->nistchempy) (2.5.0)\n",
            "Requirement already satisfied: certifi>=2017.4.17 in /usr/local/lib/python3.12/dist-packages (from requests->nistchempy) (2025.8.3)\n",
            "Requirement already satisfied: six>=1.5 in /usr/local/lib/python3.12/dist-packages (from python-dateutil>=2.8.2->pandas->nistchempy) (1.17.0)\n",
            "Requirement already satisfied: soupsieve>1.2 in /usr/local/lib/python3.12/dist-packages (from beautifulsoup4->bs4->nistchempy) (2.8)\n",
            "Requirement already satisfied: typing-extensions>=4.0.0 in /usr/local/lib/python3.12/dist-packages (from beautifulsoup4->bs4->nistchempy) (4.15.0)\n",
            "Downloading nistchempy-1.0.5-py3-none-any.whl (11.4 MB)\n",
            "\u001b[2K   \u001b[90m━━━━━━━━━━━━━━━━━━━━━━━━━━━━━━━━━━━━━━━━\u001b[0m \u001b[32m11.4/11.4 MB\u001b[0m \u001b[31m8.6 MB/s\u001b[0m eta \u001b[36m0:00:00\u001b[0m\n",
            "\u001b[?25hDownloading bs4-0.0.2-py2.py3-none-any.whl (1.2 kB)\n",
            "Installing collected packages: bs4, nistchempy\n",
            "Successfully installed bs4-0.0.2 nistchempy-1.0.5\n"
          ]
        }
      ]
    },
    {
      "cell_type": "code",
      "source": [
        "molecules_names = ['ethane','ethylene','ethyne']\n",
        "search_results = {}\n",
        "for i in molecules_names:\n",
        "  search_results[i] = nist.run_search(identifier = i, search_type = 'name')\n",
        "  print(search_results[i])"
      ],
      "metadata": {
        "colab": {
          "base_uri": "https://localhost:8080/"
        },
        "id": "VFD-ipZwC7Lg",
        "outputId": "5072695e-5091-4bc9-e5f7-43c31cc5be45"
      },
      "execution_count": 11,
      "outputs": [
        {
          "output_type": "stream",
          "name": "stdout",
          "text": [
            "NistSearch(success=True, num_compounds=1, lost=False)\n",
            "NistSearch(success=True, num_compounds=1, lost=False)\n",
            "NistSearch(success=True, num_compounds=1, lost=False)\n"
          ]
        }
      ]
    },
    {
      "cell_type": "code",
      "source": [
        "X = {}\n",
        "for i in search_results:\n",
        "  X[i] = search_results[i].compound_ids\n",
        "  print(X[i])"
      ],
      "metadata": {
        "id": "i3FcdDmlHwso",
        "outputId": "eb38278b-fb27-4b90-8610-33558f458d30",
        "colab": {
          "base_uri": "https://localhost:8080/"
        }
      },
      "execution_count": 13,
      "outputs": [
        {
          "output_type": "stream",
          "name": "stdout",
          "text": [
            "['C74840']\n",
            "['C74851']\n",
            "['C74862']\n"
          ]
        }
      ]
    },
    {
      "cell_type": "code",
      "source": [
        "XSPEC = {}\n",
        "for i in X:\n",
        "  XSPEC[i] = X[i].get_ir_uvvis_spectra()"
      ],
      "metadata": {
        "id": "rlURgljWJJe9"
      },
      "execution_count": null,
      "outputs": []
    },
    {
      "cell_type": "markdown",
      "source": [
        "<font color = 'red'> Use this text box to describe any trends you see along the series. A few sentences is fine."
      ],
      "metadata": {
        "id": "KVm1syl4Blv1"
      }
    },
    {
      "cell_type": "markdown",
      "source": [
        "##### <font color = 'red'> Series 2: methane, ethane, propane, butane, pentane </font>"
      ],
      "metadata": {
        "id": "ufwGv5jZAnUd"
      }
    },
    {
      "cell_type": "code",
      "source": [
        "# Use this code (and add as many extra code cells as you want in this section) to do the above task."
      ],
      "metadata": {
        "id": "Tk5zccosAnyt"
      },
      "execution_count": null,
      "outputs": []
    },
    {
      "cell_type": "markdown",
      "source": [
        "<font color = 'red'> Use this text box to describe any trends you see along the series. A few sentences is fine."
      ],
      "metadata": {
        "id": "qwwC0QhQBb00"
      }
    },
    {
      "cell_type": "markdown",
      "source": [
        "##### <font color = 'red'> Series 3: cyclopropane, cyclobutane, cyclopentane, cyclohexane, benzene </font>"
      ],
      "metadata": {
        "id": "dnQ5z3GqBMfN"
      }
    },
    {
      "cell_type": "code",
      "source": [
        "# Use this code (and add as many extra code cells as you want in this section) to do the above task."
      ],
      "metadata": {
        "id": "3kd4_wRGAof5"
      },
      "execution_count": null,
      "outputs": []
    },
    {
      "cell_type": "markdown",
      "source": [
        "<font color = 'red'> Use this text box to describe any trends you see along the series. A few sentences is fine."
      ],
      "metadata": {
        "id": "gqZqkIBjBnN0"
      }
    },
    {
      "cell_type": "markdown",
      "source": [
        "### Polymer Sorting for Recycling\n",
        "You can find data for this exercise at https://github.com/usnistgov/nir_corr_po . The accompanying publication (which is cool) can be found at https://doi.org/10.1021/acs.macromol.3c02290 . It is not necessary to read, but it may provide some context for your qualitative answers.  \n",
        "The following two exercises ask you to comment on the reproducibility of the measurements. Since we have not gone over any quantification principles in class yet, these may be purely qualitative for full credit."
      ],
      "metadata": {
        "id": "0B8zHVP4_hJ3"
      }
    },
    {
      "cell_type": "markdown",
      "source": [
        "##### <font color='red'> Assess the reproducibility of the measurement. </font>\n",
        "Pick a single polymer (same code (e.g. H0002)) and plot the 6 NIR spectra collected on a single axis. Comment on the qualitative reproducibility of the measurement."
      ],
      "metadata": {
        "id": "bqnER55kCFmT"
      }
    },
    {
      "cell_type": "code",
      "source": [
        "# code here; insert as many cells as you need"
      ],
      "metadata": {
        "id": "ZRVZ-Ah3CpGH"
      },
      "execution_count": null,
      "outputs": []
    },
    {
      "cell_type": "markdown",
      "source": [
        "<font color = red> Qualitative answer in this text box."
      ],
      "metadata": {
        "id": "lcaejH9rCqZy"
      }
    },
    {
      "cell_type": "markdown",
      "source": [
        "##### <font color='red'> Assess the uniformity of a single polymer's NIR spectrum between different suppliers. </font>\n",
        "Plot the data from each type of LDPE on the same axis - sample codes S0081, S0024, N1476, N1473, and H0002. Comment on the qualitative agreement between spectra and if it would be easy to use these to identify LDPE in a mixed recycling stream."
      ],
      "metadata": {
        "id": "PkVBIXxkCsxy"
      }
    },
    {
      "cell_type": "code",
      "source": [
        "# code here; insert as many cells as you need"
      ],
      "metadata": {
        "id": "c9iQBo8JDrqp"
      },
      "execution_count": null,
      "outputs": []
    },
    {
      "cell_type": "markdown",
      "source": [
        "<font color = 'red'> Qualitative answer in this box."
      ],
      "metadata": {
        "id": "K0IsXgEwDmrx"
      }
    },
    {
      "cell_type": "markdown",
      "source": [
        "## Part 2: Reflecting on FAIR Data principles.\n",
        "No code!"
      ],
      "metadata": {
        "id": "zhxsIhcZ5iGk"
      }
    },
    {
      "cell_type": "markdown",
      "source": [
        "## Part 3: Case study - an OFET database\n",
        "No code!"
      ],
      "metadata": {
        "id": "AGRquKSv5hpc"
      }
    }
  ]
}